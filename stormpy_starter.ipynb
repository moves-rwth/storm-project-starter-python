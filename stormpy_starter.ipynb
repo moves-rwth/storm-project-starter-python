{
 "cells": [
  {
   "cell_type": "code",
   "execution_count": null,
   "metadata": {},
   "outputs": [],
   "source": [
    "import stormpy as sp"
   ]
  },
  {
   "cell_type": "code",
   "execution_count": null,
   "metadata": {},
   "outputs": [],
   "source": [
    "def check(path_to_model, property_str):\n",
    "    program = sp.parse_prism_program(path_to_model)\n",
    "    props = sp.parse_properties(property_str, program)\n",
    "    model = sp.build_model(program, props)\n",
    "    result = sp.model_checking(model, props[0])\n",
    "    return result.at(model.initial_states[0]) > 0.5"
   ]
  },
  {
   "cell_type": "markdown",
   "metadata": {},
   "source": [
    "#### Call function (first property)"
   ]
  },
  {
   "cell_type": "code",
   "execution_count": null,
   "metadata": {},
   "outputs": [],
   "source": [
    "res = check(\"examples/die.pm\", \"examples/die.pctl\")\n",
    "print(\"Result > 0.5? \" + (\"yes\" if res else \"no\"))"
   ]
  },
  {
   "cell_type": "markdown",
   "metadata": {},
   "source": [
    "#### Call function (second property)"
   ]
  },
  {
   "cell_type": "code",
   "execution_count": null,
   "metadata": {},
   "outputs": [],
   "source": [
    "res = check(\"examples/die.pm\", \"examples/die2.pctl\")\n",
    "print(\"Result > 0.5? \" + (\"yes\" if res else \"no\"))"
   ]
  }
 ],
 "metadata": {
  "kernelspec": {
   "display_name": "Python 3",
   "language": "python",
   "name": "python3"
  },
  "language_info": {
   "codemirror_mode": {
    "name": "ipython",
    "version": 3
   },
   "file_extension": ".py",
   "mimetype": "text/x-python",
   "name": "python",
   "nbconvert_exporter": "python",
   "pygments_lexer": "ipython3",
   "version": "3.8.2"
  }
 },
 "nbformat": 4,
 "nbformat_minor": 4
}
